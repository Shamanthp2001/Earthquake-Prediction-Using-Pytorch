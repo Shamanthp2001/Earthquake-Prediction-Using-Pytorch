{
  "cells": [
    {
      "cell_type": "markdown",
      "metadata": {
        "id": "view-in-github",
        "colab_type": "text"
      },
      "source": [
        "<a href=\"https://colab.research.google.com/github/Shamanthp2001/Shamanthp2001/blob/main/project.ipynb\" target=\"_parent\"><img src=\"https://colab.research.google.com/assets/colab-badge.svg\" alt=\"Open In Colab\"/></a>"
      ]
    },
    {
      "cell_type": "code",
      "execution_count": null,
      "metadata": {
        "id": "HL7bn6GRcqzd"
      },
      "outputs": [],
      "source": [
        " import numpy as np # linear algebra\n",
        "import pandas as pd # data processing, CSV file I/O (e.g. pd.read_csv)\n",
        "import os\n",
        "import matplotlib.pyplot as plt\n",
        "%matplotlib inline\n",
        "import torch\n",
        "import torch.nn as nn\n",
        "from torch.utils.data import Dataset, DataLoader"
      ]
    },
    {
      "cell_type": "code",
      "execution_count": null,
      "metadata": {
        "id": "M6DWV9v8djfB"
      },
      "outputs": [],
      "source": [
        "torch.set_num_threads(4)"
      ]
    },
    {
      "cell_type": "code",
      "execution_count": null,
      "metadata": {
        "id": "rlayfQx7dtKH"
      },
      "outputs": [],
      "source": [
        "train = pd.read_csv('/content/sample_data/train.csv.zip', dtype={\"acoustic_data\": np.float32, \"time_to_failure\": np.float32})\n",
        "#train1 = pd.read_csv('/content/sample_data/sample1.csv', dtype={\"acoustic_data\": np.float32, \"time_to_failure\": np.float32})\n",
        "#train2= pd.read_csv('/content/sample_data/sample_submission (1).csv', dtype={\"acoustic_data\": np.float32, \"time_to_failure\": np.float32})\n",
        "#train=merged_data = train1.merge(train2,on=[\"Security Code\"])\n",
        "#merged_data.head()\n"
      ]
    },
    {
      "cell_type": "code",
      "execution_count": null,
      "metadata": {
        "colab": {
          "base_uri": "https://localhost:8080/",
          "height": 206
        },
        "id": "jHx_W5LomdWP",
        "outputId": "823fb6b4-5738-472c-f282-8c1d5caf0d75"
      },
      "outputs": [
        {
          "output_type": "execute_result",
          "data": {
            "text/plain": [
              "   acoustic_data  time_to_failure\n",
              "0           12.0           1.4691\n",
              "1            6.0           1.4691\n",
              "2            8.0           1.4691\n",
              "3            5.0           1.4691\n",
              "4            8.0           1.4691"
            ],
            "text/html": [
              "\n",
              "  <div id=\"df-d755f30c-11b9-4c0e-a66a-3e741429d9f2\">\n",
              "    <div class=\"colab-df-container\">\n",
              "      <div>\n",
              "<style scoped>\n",
              "    .dataframe tbody tr th:only-of-type {\n",
              "        vertical-align: middle;\n",
              "    }\n",
              "\n",
              "    .dataframe tbody tr th {\n",
              "        vertical-align: top;\n",
              "    }\n",
              "\n",
              "    .dataframe thead th {\n",
              "        text-align: right;\n",
              "    }\n",
              "</style>\n",
              "<table border=\"1\" class=\"dataframe\">\n",
              "  <thead>\n",
              "    <tr style=\"text-align: right;\">\n",
              "      <th></th>\n",
              "      <th>acoustic_data</th>\n",
              "      <th>time_to_failure</th>\n",
              "    </tr>\n",
              "  </thead>\n",
              "  <tbody>\n",
              "    <tr>\n",
              "      <th>0</th>\n",
              "      <td>12.0</td>\n",
              "      <td>1.4691</td>\n",
              "    </tr>\n",
              "    <tr>\n",
              "      <th>1</th>\n",
              "      <td>6.0</td>\n",
              "      <td>1.4691</td>\n",
              "    </tr>\n",
              "    <tr>\n",
              "      <th>2</th>\n",
              "      <td>8.0</td>\n",
              "      <td>1.4691</td>\n",
              "    </tr>\n",
              "    <tr>\n",
              "      <th>3</th>\n",
              "      <td>5.0</td>\n",
              "      <td>1.4691</td>\n",
              "    </tr>\n",
              "    <tr>\n",
              "      <th>4</th>\n",
              "      <td>8.0</td>\n",
              "      <td>1.4691</td>\n",
              "    </tr>\n",
              "  </tbody>\n",
              "</table>\n",
              "</div>\n",
              "      <button class=\"colab-df-convert\" onclick=\"convertToInteractive('df-d755f30c-11b9-4c0e-a66a-3e741429d9f2')\"\n",
              "              title=\"Convert this dataframe to an interactive table.\"\n",
              "              style=\"display:none;\">\n",
              "        \n",
              "  <svg xmlns=\"http://www.w3.org/2000/svg\" height=\"24px\"viewBox=\"0 0 24 24\"\n",
              "       width=\"24px\">\n",
              "    <path d=\"M0 0h24v24H0V0z\" fill=\"none\"/>\n",
              "    <path d=\"M18.56 5.44l.94 2.06.94-2.06 2.06-.94-2.06-.94-.94-2.06-.94 2.06-2.06.94zm-11 1L8.5 8.5l.94-2.06 2.06-.94-2.06-.94L8.5 2.5l-.94 2.06-2.06.94zm10 10l.94 2.06.94-2.06 2.06-.94-2.06-.94-.94-2.06-.94 2.06-2.06.94z\"/><path d=\"M17.41 7.96l-1.37-1.37c-.4-.4-.92-.59-1.43-.59-.52 0-1.04.2-1.43.59L10.3 9.45l-7.72 7.72c-.78.78-.78 2.05 0 2.83L4 21.41c.39.39.9.59 1.41.59.51 0 1.02-.2 1.41-.59l7.78-7.78 2.81-2.81c.8-.78.8-2.07 0-2.86zM5.41 20L4 18.59l7.72-7.72 1.47 1.35L5.41 20z\"/>\n",
              "  </svg>\n",
              "      </button>\n",
              "      \n",
              "  <style>\n",
              "    .colab-df-container {\n",
              "      display:flex;\n",
              "      flex-wrap:wrap;\n",
              "      gap: 12px;\n",
              "    }\n",
              "\n",
              "    .colab-df-convert {\n",
              "      background-color: #E8F0FE;\n",
              "      border: none;\n",
              "      border-radius: 50%;\n",
              "      cursor: pointer;\n",
              "      display: none;\n",
              "      fill: #1967D2;\n",
              "      height: 32px;\n",
              "      padding: 0 0 0 0;\n",
              "      width: 32px;\n",
              "    }\n",
              "\n",
              "    .colab-df-convert:hover {\n",
              "      background-color: #E2EBFA;\n",
              "      box-shadow: 0px 1px 2px rgba(60, 64, 67, 0.3), 0px 1px 3px 1px rgba(60, 64, 67, 0.15);\n",
              "      fill: #174EA6;\n",
              "    }\n",
              "\n",
              "    [theme=dark] .colab-df-convert {\n",
              "      background-color: #3B4455;\n",
              "      fill: #D2E3FC;\n",
              "    }\n",
              "\n",
              "    [theme=dark] .colab-df-convert:hover {\n",
              "      background-color: #434B5C;\n",
              "      box-shadow: 0px 1px 3px 1px rgba(0, 0, 0, 0.15);\n",
              "      filter: drop-shadow(0px 1px 2px rgba(0, 0, 0, 0.3));\n",
              "      fill: #FFFFFF;\n",
              "    }\n",
              "  </style>\n",
              "\n",
              "      <script>\n",
              "        const buttonEl =\n",
              "          document.querySelector('#df-d755f30c-11b9-4c0e-a66a-3e741429d9f2 button.colab-df-convert');\n",
              "        buttonEl.style.display =\n",
              "          google.colab.kernel.accessAllowed ? 'block' : 'none';\n",
              "\n",
              "        async function convertToInteractive(key) {\n",
              "          const element = document.querySelector('#df-d755f30c-11b9-4c0e-a66a-3e741429d9f2');\n",
              "          const dataTable =\n",
              "            await google.colab.kernel.invokeFunction('convertToInteractive',\n",
              "                                                     [key], {});\n",
              "          if (!dataTable) return;\n",
              "\n",
              "          const docLinkHtml = 'Like what you see? Visit the ' +\n",
              "            '<a target=\"_blank\" href=https://colab.research.google.com/notebooks/data_table.ipynb>data table notebook</a>'\n",
              "            + ' to learn more about interactive tables.';\n",
              "          element.innerHTML = '';\n",
              "          dataTable['output_type'] = 'display_data';\n",
              "          await google.colab.output.renderOutput(dataTable, element);\n",
              "          const docLink = document.createElement('div');\n",
              "          docLink.innerHTML = docLinkHtml;\n",
              "          element.appendChild(docLink);\n",
              "        }\n",
              "      </script>\n",
              "    </div>\n",
              "  </div>\n",
              "  "
            ]
          },
          "metadata": {},
          "execution_count": 4
        }
      ],
      "source": [
        "#t1=pd.read_csv('/content/sample_data/sample1 (1).csv')\n",
        "#t2=pd.read_csv('/content/sample_data/sample_submission (1).csv')\n",
        "#train=pd.concat([t1,t2])\n",
        "train.head()"
      ]
    },
    {
      "cell_type": "code",
      "execution_count": null,
      "metadata": {
        "colab": {
          "base_uri": "https://localhost:8080/"
        },
        "id": "e6OOg7ATrfGU",
        "outputId": "300d620f-daea-4e8c-b81e-62b5596c3598"
      },
      "outputs": [
        {
          "output_type": "stream",
          "name": "stdout",
          "text": [
            "(1048575, 2)\n"
          ]
        }
      ],
      "source": [
        "print(train.shape)"
      ]
    },
    {
      "cell_type": "code",
      "execution_count": null,
      "metadata": {
        "colab": {
          "base_uri": "https://localhost:8080/",
          "height": 206
        },
        "id": "RAQZgHBom2yO",
        "outputId": "b56dee82-acf9-4928-a3a7-969f934ac548"
      },
      "outputs": [
        {
          "data": {
            "text/html": [
              "\n",
              "  <div id=\"df-3a2b0544-6519-4f6e-b5d3-52059ed5ff20\">\n",
              "    <div class=\"colab-df-container\">\n",
              "      <div>\n",
              "<style scoped>\n",
              "    .dataframe tbody tr th:only-of-type {\n",
              "        vertical-align: middle;\n",
              "    }\n",
              "\n",
              "    .dataframe tbody tr th {\n",
              "        vertical-align: top;\n",
              "    }\n",
              "\n",
              "    .dataframe thead th {\n",
              "        text-align: right;\n",
              "    }\n",
              "</style>\n",
              "<table border=\"1\" class=\"dataframe\">\n",
              "  <thead>\n",
              "    <tr style=\"text-align: right;\">\n",
              "      <th></th>\n",
              "      <th>acoustic_data</th>\n",
              "    </tr>\n",
              "  </thead>\n",
              "  <tbody>\n",
              "    <tr>\n",
              "      <th>0</th>\n",
              "      <td>7</td>\n",
              "    </tr>\n",
              "    <tr>\n",
              "      <th>1</th>\n",
              "      <td>0</td>\n",
              "    </tr>\n",
              "    <tr>\n",
              "      <th>2</th>\n",
              "      <td>-2</td>\n",
              "    </tr>\n",
              "    <tr>\n",
              "      <th>3</th>\n",
              "      <td>-4</td>\n",
              "    </tr>\n",
              "    <tr>\n",
              "      <th>4</th>\n",
              "      <td>0</td>\n",
              "    </tr>\n",
              "  </tbody>\n",
              "</table>\n",
              "</div>\n",
              "      <button class=\"colab-df-convert\" onclick=\"convertToInteractive('df-3a2b0544-6519-4f6e-b5d3-52059ed5ff20')\"\n",
              "              title=\"Convert this dataframe to an interactive table.\"\n",
              "              style=\"display:none;\">\n",
              "        \n",
              "  <svg xmlns=\"http://www.w3.org/2000/svg\" height=\"24px\"viewBox=\"0 0 24 24\"\n",
              "       width=\"24px\">\n",
              "    <path d=\"M0 0h24v24H0V0z\" fill=\"none\"/>\n",
              "    <path d=\"M18.56 5.44l.94 2.06.94-2.06 2.06-.94-2.06-.94-.94-2.06-.94 2.06-2.06.94zm-11 1L8.5 8.5l.94-2.06 2.06-.94-2.06-.94L8.5 2.5l-.94 2.06-2.06.94zm10 10l.94 2.06.94-2.06 2.06-.94-2.06-.94-.94-2.06-.94 2.06-2.06.94z\"/><path d=\"M17.41 7.96l-1.37-1.37c-.4-.4-.92-.59-1.43-.59-.52 0-1.04.2-1.43.59L10.3 9.45l-7.72 7.72c-.78.78-.78 2.05 0 2.83L4 21.41c.39.39.9.59 1.41.59.51 0 1.02-.2 1.41-.59l7.78-7.78 2.81-2.81c.8-.78.8-2.07 0-2.86zM5.41 20L4 18.59l7.72-7.72 1.47 1.35L5.41 20z\"/>\n",
              "  </svg>\n",
              "      </button>\n",
              "      \n",
              "  <style>\n",
              "    .colab-df-container {\n",
              "      display:flex;\n",
              "      flex-wrap:wrap;\n",
              "      gap: 12px;\n",
              "    }\n",
              "\n",
              "    .colab-df-convert {\n",
              "      background-color: #E8F0FE;\n",
              "      border: none;\n",
              "      border-radius: 50%;\n",
              "      cursor: pointer;\n",
              "      display: none;\n",
              "      fill: #1967D2;\n",
              "      height: 32px;\n",
              "      padding: 0 0 0 0;\n",
              "      width: 32px;\n",
              "    }\n",
              "\n",
              "    .colab-df-convert:hover {\n",
              "      background-color: #E2EBFA;\n",
              "      box-shadow: 0px 1px 2px rgba(60, 64, 67, 0.3), 0px 1px 3px 1px rgba(60, 64, 67, 0.15);\n",
              "      fill: #174EA6;\n",
              "    }\n",
              "\n",
              "    [theme=dark] .colab-df-convert {\n",
              "      background-color: #3B4455;\n",
              "      fill: #D2E3FC;\n",
              "    }\n",
              "\n",
              "    [theme=dark] .colab-df-convert:hover {\n",
              "      background-color: #434B5C;\n",
              "      box-shadow: 0px 1px 3px 1px rgba(0, 0, 0, 0.15);\n",
              "      filter: drop-shadow(0px 1px 2px rgba(0, 0, 0, 0.3));\n",
              "      fill: #FFFFFF;\n",
              "    }\n",
              "  </style>\n",
              "\n",
              "      <script>\n",
              "        const buttonEl =\n",
              "          document.querySelector('#df-3a2b0544-6519-4f6e-b5d3-52059ed5ff20 button.colab-df-convert');\n",
              "        buttonEl.style.display =\n",
              "          google.colab.kernel.accessAllowed ? 'block' : 'none';\n",
              "\n",
              "        async function convertToInteractive(key) {\n",
              "          const element = document.querySelector('#df-3a2b0544-6519-4f6e-b5d3-52059ed5ff20');\n",
              "          const dataTable =\n",
              "            await google.colab.kernel.invokeFunction('convertToInteractive',\n",
              "                                                     [key], {});\n",
              "          if (!dataTable) return;\n",
              "\n",
              "          const docLinkHtml = 'Like what you see? Visit the ' +\n",
              "            '<a target=\"_blank\" href=https://colab.research.google.com/notebooks/data_table.ipynb>data table notebook</a>'\n",
              "            + ' to learn more about interactive tables.';\n",
              "          element.innerHTML = '';\n",
              "          dataTable['output_type'] = 'display_data';\n",
              "          await google.colab.output.renderOutput(dataTable, element);\n",
              "          const docLink = document.createElement('div');\n",
              "          docLink.innerHTML = docLinkHtml;\n",
              "          element.appendChild(docLink);\n",
              "        }\n",
              "      </script>\n",
              "    </div>\n",
              "  </div>\n",
              "  "
            ],
            "text/plain": [
              "   acoustic_data\n",
              "0              7\n",
              "1              0\n",
              "2             -2\n",
              "3             -4\n",
              "4              0"
            ]
          },
          "execution_count": 7,
          "metadata": {},
          "output_type": "execute_result"
        }
      ],
      "source": [
        "#t1.head()\n",
        "#t2.head()"
      ]
    },
    {
      "cell_type": "code",
      "execution_count": null,
      "metadata": {
        "colab": {
          "base_uri": "https://localhost:8080/",
          "height": 316
        },
        "id": "uGzJ09wldxjO",
        "outputId": "85e956be-0673-45cc-af80-24f4912a5692"
      },
      "outputs": [
        {
          "output_type": "stream",
          "name": "stdout",
          "text": [
            "   acoustic_data  time_to_failure\n",
            "0           12.0           1.4691\n",
            "1            6.0           1.4691\n",
            "2            8.0           1.4691\n",
            "3            5.0           1.4691\n",
            "4            8.0           1.4691\n"
          ]
        },
        {
          "output_type": "execute_result",
          "data": {
            "text/plain": [
              "         acoustic_data  time_to_failure\n",
              "1048570            1.0         1.197796\n",
              "1048571           10.0         1.197796\n",
              "1048572            7.0         1.197796\n",
              "1048573            8.0         1.197796\n",
              "1048574           10.0         1.197796"
            ],
            "text/html": [
              "\n",
              "  <div id=\"df-86d20e62-7d4a-4957-9cf0-b66044c4d545\">\n",
              "    <div class=\"colab-df-container\">\n",
              "      <div>\n",
              "<style scoped>\n",
              "    .dataframe tbody tr th:only-of-type {\n",
              "        vertical-align: middle;\n",
              "    }\n",
              "\n",
              "    .dataframe tbody tr th {\n",
              "        vertical-align: top;\n",
              "    }\n",
              "\n",
              "    .dataframe thead th {\n",
              "        text-align: right;\n",
              "    }\n",
              "</style>\n",
              "<table border=\"1\" class=\"dataframe\">\n",
              "  <thead>\n",
              "    <tr style=\"text-align: right;\">\n",
              "      <th></th>\n",
              "      <th>acoustic_data</th>\n",
              "      <th>time_to_failure</th>\n",
              "    </tr>\n",
              "  </thead>\n",
              "  <tbody>\n",
              "    <tr>\n",
              "      <th>1048570</th>\n",
              "      <td>1.0</td>\n",
              "      <td>1.197796</td>\n",
              "    </tr>\n",
              "    <tr>\n",
              "      <th>1048571</th>\n",
              "      <td>10.0</td>\n",
              "      <td>1.197796</td>\n",
              "    </tr>\n",
              "    <tr>\n",
              "      <th>1048572</th>\n",
              "      <td>7.0</td>\n",
              "      <td>1.197796</td>\n",
              "    </tr>\n",
              "    <tr>\n",
              "      <th>1048573</th>\n",
              "      <td>8.0</td>\n",
              "      <td>1.197796</td>\n",
              "    </tr>\n",
              "    <tr>\n",
              "      <th>1048574</th>\n",
              "      <td>10.0</td>\n",
              "      <td>1.197796</td>\n",
              "    </tr>\n",
              "  </tbody>\n",
              "</table>\n",
              "</div>\n",
              "      <button class=\"colab-df-convert\" onclick=\"convertToInteractive('df-86d20e62-7d4a-4957-9cf0-b66044c4d545')\"\n",
              "              title=\"Convert this dataframe to an interactive table.\"\n",
              "              style=\"display:none;\">\n",
              "        \n",
              "  <svg xmlns=\"http://www.w3.org/2000/svg\" height=\"24px\"viewBox=\"0 0 24 24\"\n",
              "       width=\"24px\">\n",
              "    <path d=\"M0 0h24v24H0V0z\" fill=\"none\"/>\n",
              "    <path d=\"M18.56 5.44l.94 2.06.94-2.06 2.06-.94-2.06-.94-.94-2.06-.94 2.06-2.06.94zm-11 1L8.5 8.5l.94-2.06 2.06-.94-2.06-.94L8.5 2.5l-.94 2.06-2.06.94zm10 10l.94 2.06.94-2.06 2.06-.94-2.06-.94-.94-2.06-.94 2.06-2.06.94z\"/><path d=\"M17.41 7.96l-1.37-1.37c-.4-.4-.92-.59-1.43-.59-.52 0-1.04.2-1.43.59L10.3 9.45l-7.72 7.72c-.78.78-.78 2.05 0 2.83L4 21.41c.39.39.9.59 1.41.59.51 0 1.02-.2 1.41-.59l7.78-7.78 2.81-2.81c.8-.78.8-2.07 0-2.86zM5.41 20L4 18.59l7.72-7.72 1.47 1.35L5.41 20z\"/>\n",
              "  </svg>\n",
              "      </button>\n",
              "      \n",
              "  <style>\n",
              "    .colab-df-container {\n",
              "      display:flex;\n",
              "      flex-wrap:wrap;\n",
              "      gap: 12px;\n",
              "    }\n",
              "\n",
              "    .colab-df-convert {\n",
              "      background-color: #E8F0FE;\n",
              "      border: none;\n",
              "      border-radius: 50%;\n",
              "      cursor: pointer;\n",
              "      display: none;\n",
              "      fill: #1967D2;\n",
              "      height: 32px;\n",
              "      padding: 0 0 0 0;\n",
              "      width: 32px;\n",
              "    }\n",
              "\n",
              "    .colab-df-convert:hover {\n",
              "      background-color: #E2EBFA;\n",
              "      box-shadow: 0px 1px 2px rgba(60, 64, 67, 0.3), 0px 1px 3px 1px rgba(60, 64, 67, 0.15);\n",
              "      fill: #174EA6;\n",
              "    }\n",
              "\n",
              "    [theme=dark] .colab-df-convert {\n",
              "      background-color: #3B4455;\n",
              "      fill: #D2E3FC;\n",
              "    }\n",
              "\n",
              "    [theme=dark] .colab-df-convert:hover {\n",
              "      background-color: #434B5C;\n",
              "      box-shadow: 0px 1px 3px 1px rgba(0, 0, 0, 0.15);\n",
              "      filter: drop-shadow(0px 1px 2px rgba(0, 0, 0, 0.3));\n",
              "      fill: #FFFFFF;\n",
              "    }\n",
              "  </style>\n",
              "\n",
              "      <script>\n",
              "        const buttonEl =\n",
              "          document.querySelector('#df-86d20e62-7d4a-4957-9cf0-b66044c4d545 button.colab-df-convert');\n",
              "        buttonEl.style.display =\n",
              "          google.colab.kernel.accessAllowed ? 'block' : 'none';\n",
              "\n",
              "        async function convertToInteractive(key) {\n",
              "          const element = document.querySelector('#df-86d20e62-7d4a-4957-9cf0-b66044c4d545');\n",
              "          const dataTable =\n",
              "            await google.colab.kernel.invokeFunction('convertToInteractive',\n",
              "                                                     [key], {});\n",
              "          if (!dataTable) return;\n",
              "\n",
              "          const docLinkHtml = 'Like what you see? Visit the ' +\n",
              "            '<a target=\"_blank\" href=https://colab.research.google.com/notebooks/data_table.ipynb>data table notebook</a>'\n",
              "            + ' to learn more about interactive tables.';\n",
              "          element.innerHTML = '';\n",
              "          dataTable['output_type'] = 'display_data';\n",
              "          await google.colab.output.renderOutput(dataTable, element);\n",
              "          const docLink = document.createElement('div');\n",
              "          docLink.innerHTML = docLinkHtml;\n",
              "          element.appendChild(docLink);\n",
              "        }\n",
              "      </script>\n",
              "    </div>\n",
              "  </div>\n",
              "  "
            ]
          },
          "metadata": {},
          "execution_count": 44
        }
      ],
      "source": [
        "print(train.head())\n",
        "train.tail()\n"
      ]
    },
    {
      "cell_type": "code",
      "execution_count": null,
      "metadata": {
        "colab": {
          "base_uri": "https://localhost:8080/"
        },
        "id": "x9HOp7crenrG",
        "outputId": "f43e7ab1-3c27-479b-99df-338d5ed035af"
      },
      "outputs": [
        {
          "output_type": "stream",
          "name": "stdout",
          "text": [
            "Mounted at /content/drive\n"
          ]
        }
      ],
      "source": [
        "from google.colab import drive\n",
        "drive.mount('/content/drive')"
      ]
    },
    {
      "cell_type": "code",
      "execution_count": null,
      "metadata": {
        "colab": {
          "base_uri": "https://localhost:8080/",
          "height": 283
        },
        "id": "Voc4RXsqg_WZ",
        "outputId": "611f2364-4a41-479c-c927-77df56f3239b"
      },
      "outputs": [
        {
          "output_type": "execute_result",
          "data": {
            "text/plain": [
              "[<matplotlib.lines.Line2D at 0x7fdb7a7b3950>]"
            ]
          },
          "metadata": {},
          "execution_count": 9
        },
        {
          "output_type": "display_data",
          "data": {
            "text/plain": [
              "<Figure size 432x288 with 1 Axes>"
            ],
            "image/png": "[encoded data removed]"
          },
          "metadata": {
            "needs_background": "light"
          }
        }
      ],
      "source": [
        "sample_freq = 100\n",
        "plt.plot(train.acoustic_data.values[::sample_freq])\n",
        "plt.plot(train.time_to_failure.values[::sample_freq]*1000)"
      ]
    },
    {
      "cell_type": "code",
      "execution_count": null,
      "metadata": {
        "id": "YNTJRu8thF7W"
      },
      "outputs": [],
      "source": [
        "def extract_features(z):\n",
        "    return np.c_[\n",
        "        z.mean(axis=1), \n",
        "        np.percentile(np.abs(z), q=[0, 25, 50, 75, 100], axis=1).T, \n",
        "        z.std(axis=1)\n",
        "    ]"
      ]
    },
    {
      "cell_type": "code",
      "execution_count": null,
      "metadata": {
        "id": "Pp1W30mxhPNt"
      },
      "outputs": [],
      "source": [
        "def create_X(x, window_size=1000, sequence_len=150):\n",
        "    tmp = x.reshape(sequence_len, -1)\n",
        "    return np.c_[\n",
        "        extract_features(tmp),\n",
        "        extract_features(tmp[:, -window_size // 10:]),\n",
        "        extract_features(tmp[:, -window_size // 100:])\n",
        "    ]"
      ]
    },
    {
      "cell_type": "code",
      "execution_count": null,
      "metadata": {
        "id": "rXERHMhIhTUn"
      },
      "outputs": [],
      "source": [
        "n_features = create_X(train.acoustic_data.values[0:150000]).shape[1]\n"
      ]
    },
    {
      "cell_type": "code",
      "execution_count": null,
      "metadata": {
        "id": "Cup_Gm8VhVff"
      },
      "outputs": [],
      "source": [
        "class TrainData(Dataset):\n",
        "    def __init__(self, df, window_size=1000, sequence_len=150):\n",
        "        self.rows = df.shape[0] // (window_size*sequence_len)\n",
        "        self.data, self.labels = [], []\n",
        "        for segment in range(self.rows):\n",
        "            seg = df.iloc[segment*window_size*sequence_len: (segment+1)*window_size*sequence_len]\n",
        "            x = seg.acoustic_data.values\n",
        "            y = seg.time_to_failure.values[-1]\n",
        "            self.data.append(create_X(x))\n",
        "            self.labels.append(y)\n",
        "    \n",
        "    def __len__(self):\n",
        "        return self.rows\n",
        "    \n",
        "    def __getitem__(self, idx):\n",
        "        return (\n",
        "            torch.from_numpy(self.data[idx].astype(np.float32)),\n",
        "            self.labels[idx]\n",
        "        )"
      ]
    },
    {
      "cell_type": "code",
      "execution_count": null,
      "metadata": {
        "id": "POFidKWTha_X"
      },
      "outputs": [],
      "source": [
        "train_data = TrainData(train)\n"
      ]
    },
    {
      "cell_type": "code",
      "execution_count": null,
      "metadata": {
        "id": "iIWVyjS2hgrt",
        "colab": {
          "base_uri": "https://localhost:8080/"
        },
        "outputId": "7c6d5acf-9f09-40ea-ac03-e32cfe48aa8e"
      },
      "outputs": [
        {
          "output_type": "stream",
          "name": "stdout",
          "text": [
            "6\n",
            "6\n",
            "32\n"
          ]
        }
      ],
      "source": [
        "batch_size = 100\n",
        "n_steps = len(train_data) #// 100\n",
        "#print(n_steps)\n",
        "#print(len(train_data))\n",
        "#print(hidden_size)"
      ]
    },
    {
      "cell_type": "code",
      "execution_count": null,
      "metadata": {
        "id": "a_Arx_ZRhnvH"
      },
      "outputs": [],
      "source": [
        "train_loader = DataLoader(train_data, batch_size=batch_size, shuffle=False)\n"
      ]
    },
    {
      "cell_type": "code",
      "execution_count": null,
      "metadata": {
        "id": "FyVQT4sEhsQH"
      },
      "outputs": [],
      "source": [
        "class LSTM(nn.Module):\n",
        "    def __init__(self, input_size, hidden_size):\n",
        "        super(LSTM, self).__init__()\n",
        "        self.hidden_size = hidden_size\n",
        "        self.lstm = nn.LSTM(input_size, hidden_size, batch_first=True)\n",
        "        self.fc = nn.Linear(hidden_size, 1)\n",
        "    \n",
        "    def forward(self, x):\n",
        "        hidden = (\n",
        "            torch.zeros(1, x.size(0), self.hidden_size),\n",
        "            torch.zeros(1, x.size(0), self.hidden_size)\n",
        "        )\n",
        "        \n",
        "        out, _ = self.lstm(x, hidden)\n",
        "        \n",
        "        out = self.fc(out[:, -1, :])\n",
        "        return out.view(-1)"
      ]
    },
    {
      "cell_type": "code",
      "execution_count": null,
      "metadata": {
        "id": "i0-AIVj6ht2w"
      },
      "outputs": [],
      "source": [
        "input_size = n_features\n",
        "hidden_size = 32\n",
        "model = LSTM(input_size, hidden_size)"
      ]
    },
    {
      "cell_type": "code",
      "execution_count": null,
      "metadata": {
        "id": "zVIwvNDAh1B2"
      },
      "outputs": [],
      "source": [
        "learning_rate = 0.01\n",
        "criterion = nn.MSELoss()\n",
        "optimizer = torch.optim.Adam(model.parameters(), lr=learning_rate)"
      ]
    },
    {
      "cell_type": "code",
      "execution_count": null,
      "metadata": {
        "colab": {
          "base_uri": "https://localhost:8080/"
        },
        "id": "-SsrGMICh8U9",
        "outputId": "c835e66e-7040-4737-eb62-6c76e950a47b"
      },
      "outputs": [
        {
          "output_type": "stream",
          "name": "stdout",
          "text": [
            "[Epoch 0/2, Step 0/6]  loss:  0.0016\n",
            "[Epoch 1/2, Step 0/6]  loss:  0.0016\n",
            "[Epoch 2/2, Step 0/6]  loss:  0.0015\n",
            "[Epoch 3/2, Step 0/6]  loss:  0.0015\n",
            "[Epoch 4/2, Step 0/6]  loss:  0.0015\n",
            "[Epoch 5/2, Step 0/6]  loss:  0.0014\n",
            "[Epoch 6/2, Step 0/6]  loss:  0.0014\n",
            "[Epoch 7/2, Step 0/6]  loss:  0.0014\n",
            "[Epoch 8/2, Step 0/6]  loss:  0.0014\n",
            "[Epoch 9/2, Step 0/6]  loss:  0.0013\n",
            "[Epoch 10/2, Step 0/6]  loss:  0.0013\n",
            "[Epoch 11/2, Step 0/6]  loss:  0.0013\n",
            "[Epoch 12/2, Step 0/6]  loss:  0.0012\n",
            "[Epoch 13/2, Step 0/6]  loss:  0.0012\n",
            "[Epoch 14/2, Step 0/6]  loss:  0.0012\n",
            "[Epoch 15/2, Step 0/6]  loss:  0.0012\n",
            "[Epoch 16/2, Step 0/6]  loss:  0.0011\n",
            "[Epoch 17/2, Step 0/6]  loss:  0.0011\n",
            "[Epoch 18/2, Step 0/6]  loss:  0.0011\n",
            "[Epoch 19/2, Step 0/6]  loss:  0.0011\n",
            "[Epoch 20/2, Step 0/6]  loss:  0.0010\n",
            "[Epoch 21/2, Step 0/6]  loss:  0.0010\n",
            "[Epoch 22/2, Step 0/6]  loss:  0.0010\n",
            "[Epoch 23/2, Step 0/6]  loss:  0.0010\n",
            "[Epoch 24/2, Step 0/6]  loss:  0.0010\n",
            "[Epoch 25/2, Step 0/6]  loss:  0.0009\n",
            "[Epoch 26/2, Step 0/6]  loss:  0.0009\n",
            "[Epoch 27/2, Step 0/6]  loss:  0.0009\n",
            "[Epoch 28/2, Step 0/6]  loss:  0.0009\n",
            "[Epoch 29/2, Step 0/6]  loss:  0.0009\n",
            "[Epoch 30/2, Step 0/6]  loss:  0.0008\n",
            "[Epoch 31/2, Step 0/6]  loss:  0.0008\n",
            "[Epoch 32/2, Step 0/6]  loss:  0.0008\n",
            "[Epoch 33/2, Step 0/6]  loss:  0.0008\n",
            "[Epoch 34/2, Step 0/6]  loss:  0.0008\n",
            "[Epoch 35/2, Step 0/6]  loss:  0.0008\n",
            "[Epoch 36/2, Step 0/6]  loss:  0.0007\n",
            "[Epoch 37/2, Step 0/6]  loss:  0.0007\n",
            "[Epoch 38/2, Step 0/6]  loss:  0.0007\n",
            "[Epoch 39/2, Step 0/6]  loss:  0.0007\n",
            "[Epoch 40/2, Step 0/6]  loss:  0.0007\n",
            "[Epoch 41/2, Step 0/6]  loss:  0.0007\n",
            "[Epoch 42/2, Step 0/6]  loss:  0.0007\n",
            "[Epoch 43/2, Step 0/6]  loss:  0.0007\n",
            "[Epoch 44/2, Step 0/6]  loss:  0.0006\n",
            "[Epoch 45/2, Step 0/6]  loss:  0.0006\n",
            "[Epoch 46/2, Step 0/6]  loss:  0.0006\n",
            "[Epoch 47/2, Step 0/6]  loss:  0.0006\n",
            "[Epoch 48/2, Step 0/6]  loss:  0.0006\n",
            "[Epoch 49/2, Step 0/6]  loss:  0.0006\n",
            "[Epoch 50/2, Step 0/6]  loss:  0.0006\n",
            "[Epoch 51/2, Step 0/6]  loss:  0.0006\n",
            "[Epoch 52/2, Step 0/6]  loss:  0.0006\n",
            "[Epoch 53/2, Step 0/6]  loss:  0.0006\n",
            "[Epoch 54/2, Step 0/6]  loss:  0.0005\n",
            "[Epoch 55/2, Step 0/6]  loss:  0.0005\n",
            "[Epoch 56/2, Step 0/6]  loss:  0.0005\n",
            "[Epoch 57/2, Step 0/6]  loss:  0.0005\n",
            "[Epoch 58/2, Step 0/6]  loss:  0.0005\n",
            "[Epoch 59/2, Step 0/6]  loss:  0.0005\n",
            "[Epoch 60/2, Step 0/6]  loss:  0.0005\n",
            "[Epoch 61/2, Step 0/6]  loss:  0.0005\n",
            "[Epoch 62/2, Step 0/6]  loss:  0.0005\n",
            "[Epoch 63/2, Step 0/6]  loss:  0.0005\n",
            "[Epoch 64/2, Step 0/6]  loss:  0.0005\n",
            "[Epoch 65/2, Step 0/6]  loss:  0.0005\n",
            "[Epoch 66/2, Step 0/6]  loss:  0.0005\n",
            "[Epoch 67/2, Step 0/6]  loss:  0.0004\n",
            "[Epoch 68/2, Step 0/6]  loss:  0.0004\n",
            "[Epoch 69/2, Step 0/6]  loss:  0.0004\n",
            "[Epoch 70/2, Step 0/6]  loss:  0.0004\n",
            "[Epoch 71/2, Step 0/6]  loss:  0.0004\n",
            "[Epoch 72/2, Step 0/6]  loss:  0.0004\n",
            "[Epoch 73/2, Step 0/6]  loss:  0.0004\n",
            "[Epoch 74/2, Step 0/6]  loss:  0.0004\n",
            "[Epoch 75/2, Step 0/6]  loss:  0.0004\n",
            "[Epoch 76/2, Step 0/6]  loss:  0.0004\n",
            "[Epoch 77/2, Step 0/6]  loss:  0.0004\n",
            "[Epoch 78/2, Step 0/6]  loss:  0.0004\n",
            "[Epoch 79/2, Step 0/6]  loss:  0.0004\n",
            "[Epoch 80/2, Step 0/6]  loss:  0.0004\n",
            "[Epoch 81/2, Step 0/6]  loss:  0.0004\n",
            "[Epoch 82/2, Step 0/6]  loss:  0.0004\n",
            "[Epoch 83/2, Step 0/6]  loss:  0.0004\n",
            "[Epoch 84/2, Step 0/6]  loss:  0.0003\n",
            "[Epoch 85/2, Step 0/6]  loss:  0.0003\n",
            "[Epoch 86/2, Step 0/6]  loss:  0.0003\n",
            "[Epoch 87/2, Step 0/6]  loss:  0.0003\n",
            "[Epoch 88/2, Step 0/6]  loss:  0.0003\n",
            "[Epoch 89/2, Step 0/6]  loss:  0.0003\n",
            "[Epoch 90/2, Step 0/6]  loss:  0.0003\n",
            "[Epoch 91/2, Step 0/6]  loss:  0.0003\n",
            "[Epoch 92/2, Step 0/6]  loss:  0.0003\n",
            "[Epoch 93/2, Step 0/6]  loss:  0.0003\n",
            "[Epoch 94/2, Step 0/6]  loss:  0.0003\n",
            "[Epoch 95/2, Step 0/6]  loss:  0.0003\n",
            "[Epoch 96/2, Step 0/6]  loss:  0.0003\n",
            "[Epoch 97/2, Step 0/6]  loss:  0.0003\n",
            "[Epoch 98/2, Step 0/6]  loss:  0.0003\n",
            "[Epoch 99/2, Step 0/6]  loss:  0.0003\n"
          ]
        }
      ],
      "source": [
        "for epoch in range(100):\n",
        "    for i, (data, labels) in enumerate(train_loader):\n",
        "        outputs = model(data)\n",
        "        loss = criterion(outputs, labels)\n",
        "        optimizer.zero_grad()\n",
        "        loss.backward()\n",
        "        optimizer.step()\n",
        "        if i % 10 == 0:\n",
        "            print(f'[Epoch {epoch}/2, Step {i}/{n_steps}]  loss: {loss.item(): .4f}')"
      ]
    },
    {
      "cell_type": "code",
      "execution_count": null,
      "metadata": {
        "colab": {
          "base_uri": "https://localhost:8080/"
        },
        "id": "J6EKc0W4obEe",
        "outputId": "3bd05431-a8e6-4025-ad8a-e82f2e1fe439"
      },
      "outputs": [
        {
          "name": "stdout",
          "output_type": "stream",
          "text": [
            "3\n"
          ]
        }
      ],
      "source": [
        "\n",
        "\n"
      ]
    },
    {
      "cell_type": "code",
      "execution_count": null,
      "metadata": {
        "id": "XNkVMn-BDvY7"
      },
      "outputs": [],
      "source": []
    }
  ],
  "metadata": {
    "colab": {
      "collapsed_sections": [],
      "provenance": [],
      "include_colab_link": true
    },
    "kernelspec": {
      "display_name": "Python 3",
      "name": "python3"
    },
    "language_info": {
      "name": "python"
    }
  },
  "nbformat": 4,
  "nbformat_minor": 0
}